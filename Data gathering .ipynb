{
 "cells": [
  {
   "cell_type": "markdown",
   "id": "promising-greece",
   "metadata": {},
   "source": [
    "# Data Gathering "
   ]
  },
  {
   "cell_type": "markdown",
   "id": "canadian-soccer",
   "metadata": {},
   "source": [
    "Reference\n",
    "https://towardsdatascience.com/free-stock-data-for-python-using-yahoo-finance-api-9dafd96cad2e"
   ]
  },
  {
   "cell_type": "code",
   "execution_count": 1,
   "id": "fossil-jefferson",
   "metadata": {
    "ExecuteTime": {
     "end_time": "2021-03-27T07:46:14.363083Z",
     "start_time": "2021-03-27T07:46:14.349120Z"
    }
   },
   "outputs": [],
   "source": [
    "# !pip install pandas-datareader"
   ]
  },
  {
   "cell_type": "code",
   "execution_count": 2,
   "id": "straight-locking",
   "metadata": {
    "ExecuteTime": {
     "end_time": "2021-03-27T07:46:14.378042Z",
     "start_time": "2021-03-27T07:46:14.365077Z"
    }
   },
   "outputs": [],
   "source": [
    "# !pip install yfinance\n",
    "# !pip install matplotlib\n",
    "# !pip install seaborn"
   ]
  },
  {
   "cell_type": "code",
   "execution_count": 2,
   "id": "forced-surge",
   "metadata": {
    "ExecuteTime": {
     "end_time": "2021-05-06T10:56:06.084423Z",
     "start_time": "2021-05-06T10:56:06.074450Z"
    }
   },
   "outputs": [
    {
     "data": {
      "image/png": "[encoded data removed]",
      "text/plain": [
       "<IPython.core.display.Image object>"
      ]
     },
     "execution_count": 2,
     "metadata": {},
     "output_type": "execute_result"
    }
   ],
   "source": [
    "from IPython.display import Image\n",
    "Image(filename='2021-03-05_17h03_49.png') "
   ]
  },
  {
   "cell_type": "markdown",
   "id": "turned-booth",
   "metadata": {},
   "source": [
    "- Thai SETI  www.investing.com\n",
    "- Vietnam VNI www.investing.com\n",
    "\n",
    "Asean\n",
    "- Singapore ^STI\n",
    "- Malaysia ^KLSE\n",
    "- Indonesia ^JKSE\n",
    "- Philippines PSEI.PS\n",
    "\n",
    "Asia\n",
    "- Hong Kong ^HSI\n",
    "- China 399001.SZ\n",
    "- South Korea ^KS11\n",
    "- Japan ^N225\n",
    "- Australia ^AORD\n",
    "- New Zealand ^NZ50\n",
    "- Taiwan ^TWII\n",
    "- BSE SENSEX India ^BSESN\n",
    "- India ^NSEI\n",
    "\n",
    "Western\n",
    "- USA ^DJI\n",
    "- USA NY ^NYA\n",
    "- USA AMEX ^XAX\n",
    "- USA Chicago ^RUT\n",
    "- USA Toronto ^GSPTSE\n",
    "- GB ^FTSE\n",
    "- German  ^GDAXI\n",
    "- Paris ^FCHI\n",
    "- Zurich ^STOXX50E\n",
    "- Brussels ^BFX\n",
    "- Russia IMOEX.ME\n",
    "- Sao Paolo(Brazilian) ^BVSP\n",
    "- Mexico ^MXX\n",
    "- Santiago(Chile) ^IPSA\n",
    "- Buenos Aires(Argentina) ^MERV\n",
    "- Tel Aviv(Israel) ^TA125.TA\n",
    "- Egyptian ^CASE30\n",
    "- Johannesburg(South Africa)  ^JN0U.JO\n",
    "\n",
    "-Other\n",
    "- Gold GC=F\n",
    "- Crude Oil CL=F\n",
    "- Bitcoin USD BTC-USD"
   ]
  },
  {
   "cell_type": "markdown",
   "id": "southwest-suggestion",
   "metadata": {},
   "source": [
    "## Get stock value one by one"
   ]
  },
  {
   "cell_type": "code",
   "execution_count": 3,
   "id": "powerful-initial",
   "metadata": {
    "ExecuteTime": {
     "end_time": "2021-05-06T10:56:18.049908Z",
     "start_time": "2021-05-06T10:56:15.780314Z"
    }
   },
   "outputs": [
    {
     "name": "stdout",
     "output_type": "stream",
     "text": [
      "{'previousClose': 34133, 'regularMarketOpen': 34163.99, 'twoHundredDayAverage': 31063.926, 'trailingAnnualDividendYield': None, 'payoutRatio': None, 'volume24Hr': None, 'regularMarketDayHigh': 34331.2, 'navPrice': None, 'averageDailyVolume10Day': 340731428, 'totalAssets': None, 'regularMarketPreviousClose': 34133, 'fiftyDayAverage': 33503.164, 'trailingAnnualDividendRate': None, 'open': 34163.99, 'toCurrency': None, 'averageVolume10days': 340731428, 'expireDate': None, 'yield': None, 'algorithm': None, 'dividendRate': None, 'exDividendDate': None, 'beta': None, 'circulatingSupply': None, 'startDate': None, 'regularMarketDayLow': 34039.66, 'priceHint': 2, 'currency': 'USD', 'regularMarketVolume': 255811646, 'lastMarket': None, 'maxSupply': None, 'openInterest': None, 'marketCap': None, 'volumeAllCurrencies': None, 'strikePrice': None, 'averageVolume': 198001056, 'priceToSalesTrailing12Months': None, 'dayLow': 34039.66, 'ask': 34319.96, 'ytdReturn': None, 'askSize': 0, 'volume': 255811646, 'fiftyTwoWeekHigh': 34331.2, 'forwardPE': None, 'maxAge': 1, 'fromCurrency': None, 'fiveYearAvgDividendYield': None, 'fiftyTwoWeekLow': 22789.62, 'bid': 34114.48, 'tradeable': False, 'dividendYield': None, 'bidSize': 0, 'dayHigh': 34331.2, 'exchange': 'DJI', 'shortName': 'Dow Jones Industrial Average', 'longName': None, 'exchangeTimezoneName': 'America/New_York', 'exchangeTimezoneShortName': 'EDT', 'isEsgPopulated': False, 'gmtOffSetMilliseconds': '-14400000', 'underlyingSymbol': None, 'quoteType': 'INDEX', 'symbol': '^DJI', 'underlyingExchangeSymbol': None, 'headSymbol': None, 'messageBoardId': 'finmb_INDEXDJI', 'uuid': 'fc24b2b0-ced7-33cc-9057-0b6d90973fc4', 'market': 'us_market', 'regularMarketPrice': 34163.99, 'logo_url': ''}\n"
     ]
    },
    {
     "data": {
      "text/html": [
       "<div>\n",
       "<style scoped>\n",
       "    .dataframe tbody tr th:only-of-type {\n",
       "        vertical-align: middle;\n",
       "    }\n",
       "\n",
       "    .dataframe tbody tr th {\n",
       "        vertical-align: top;\n",
       "    }\n",
       "\n",
       "    .dataframe thead th {\n",
       "        text-align: right;\n",
       "    }\n",
       "</style>\n",
       "<table border=\"1\" class=\"dataframe\">\n",
       "  <thead>\n",
       "    <tr style=\"text-align: right;\">\n",
       "      <th></th>\n",
       "      <th>Open</th>\n",
       "      <th>High</th>\n",
       "      <th>Low</th>\n",
       "      <th>Close</th>\n",
       "      <th>Volume</th>\n",
       "      <th>Dividends</th>\n",
       "      <th>Stock Splits</th>\n",
       "    </tr>\n",
       "    <tr>\n",
       "      <th>Date</th>\n",
       "      <th></th>\n",
       "      <th></th>\n",
       "      <th></th>\n",
       "      <th></th>\n",
       "      <th></th>\n",
       "      <th></th>\n",
       "      <th></th>\n",
       "    </tr>\n",
       "  </thead>\n",
       "  <tbody>\n",
       "    <tr>\n",
       "      <th>2009-12-31</th>\n",
       "      <td>10548.509766</td>\n",
       "      <td>10555.009766</td>\n",
       "      <td>10423.129883</td>\n",
       "      <td>10428.049805</td>\n",
       "      <td>1379400</td>\n",
       "      <td>0</td>\n",
       "      <td>0</td>\n",
       "    </tr>\n",
       "    <tr>\n",
       "      <th>2010-01-04</th>\n",
       "      <td>10430.690430</td>\n",
       "      <td>10604.969727</td>\n",
       "      <td>10430.690430</td>\n",
       "      <td>10583.959961</td>\n",
       "      <td>1797800</td>\n",
       "      <td>0</td>\n",
       "      <td>0</td>\n",
       "    </tr>\n",
       "    <tr>\n",
       "      <th>2010-01-05</th>\n",
       "      <td>10584.559570</td>\n",
       "      <td>10584.559570</td>\n",
       "      <td>10522.519531</td>\n",
       "      <td>10572.019531</td>\n",
       "      <td>1885400</td>\n",
       "      <td>0</td>\n",
       "      <td>0</td>\n",
       "    </tr>\n",
       "    <tr>\n",
       "      <th>2010-01-06</th>\n",
       "      <td>10564.719727</td>\n",
       "      <td>10594.990234</td>\n",
       "      <td>10546.549805</td>\n",
       "      <td>10573.679688</td>\n",
       "      <td>1860400</td>\n",
       "      <td>0</td>\n",
       "      <td>0</td>\n",
       "    </tr>\n",
       "    <tr>\n",
       "      <th>2010-01-07</th>\n",
       "      <td>10571.110352</td>\n",
       "      <td>10612.370117</td>\n",
       "      <td>10505.209961</td>\n",
       "      <td>10606.860352</td>\n",
       "      <td>2173900</td>\n",
       "      <td>0</td>\n",
       "      <td>0</td>\n",
       "    </tr>\n",
       "  </tbody>\n",
       "</table>\n",
       "</div>"
      ],
      "text/plain": [
       "                    Open          High           Low         Close   Volume  \\\n",
       "Date                                                                          \n",
       "2009-12-31  10548.509766  10555.009766  10423.129883  10428.049805  1379400   \n",
       "2010-01-04  10430.690430  10604.969727  10430.690430  10583.959961  1797800   \n",
       "2010-01-05  10584.559570  10584.559570  10522.519531  10572.019531  1885400   \n",
       "2010-01-06  10564.719727  10594.990234  10546.549805  10573.679688  1860400   \n",
       "2010-01-07  10571.110352  10612.370117  10505.209961  10606.860352  2173900   \n",
       "\n",
       "            Dividends  Stock Splits  \n",
       "Date                                 \n",
       "2009-12-31          0             0  \n",
       "2010-01-04          0             0  \n",
       "2010-01-05          0             0  \n",
       "2010-01-06          0             0  \n",
       "2010-01-07          0             0  "
      ]
     },
     "execution_count": 3,
     "metadata": {},
     "output_type": "execute_result"
    }
   ],
   "source": [
    "import yfinance as yf\n",
    "tricker = \"^DJI\"\n",
    "stockData = yf.Ticker(tricker)\n",
    "\n",
    "# get stock info\n",
    "print(stockData.info)\n",
    "\n",
    "start =\"2010-01-01\"\n",
    "end =\"2020-12-31\"\n",
    "# get historical market data\n",
    "hist = stockData.history(start=start, end=end)\n",
    "hist.head()\n",
    "\n",
    "# hist.info()"
   ]
  },
  {
   "cell_type": "code",
   "execution_count": 2,
   "id": "baking-template",
   "metadata": {
    "ExecuteTime": {
     "end_time": "2021-03-27T07:46:16.999744Z",
     "start_time": "2021-03-27T07:46:16.690785Z"
    }
   },
   "outputs": [
    {
     "name": "stdout",
     "output_type": "stream",
     "text": [
      "[*********************100%***********************]  1 of 1 completed\n"
     ]
    }
   ],
   "source": [
    "# Save data \n",
    "data_df = yf.download(tricker, start=start, end=end)\n",
    "data_df.to_csv(tricker+'.csv')"
   ]
  },
  {
   "cell_type": "markdown",
   "id": "christian-difference",
   "metadata": {},
   "source": [
    "## Get all stock price in Dataframe"
   ]
  },
  {
   "cell_type": "code",
   "execution_count": 8,
   "id": "filled-exhibition",
   "metadata": {
    "ExecuteTime": {
     "end_time": "2021-04-13T03:42:34.196662Z",
     "start_time": "2021-04-13T03:41:18.066100Z"
    }
   },
   "outputs": [
    {
     "name": "stdout",
     "output_type": "stream",
     "text": [
      "<class 'pandas.core.frame.DataFrame'>\n",
      "DatetimeIndex: 3531 entries, 2009-12-24 to 2020-12-31\n",
      "Data columns (total 34 columns):\n",
      " #   Column                           Non-Null Count  Dtype  \n",
      "---  ------                           --------------  -----  \n",
      " 0   SET                              2684 non-null   float64\n",
      " 1   VNI                              2745 non-null   float64\n",
      " 2   STI Index                        2744 non-null   float64\n",
      " 3   FTSE Bursa Malaysia KLCI         2699 non-null   float64\n",
      " 4   Composite Index                  2683 non-null   float64\n",
      " 5   PSEi INDEX                       2676 non-null   float64\n",
      " 6   HANG SENG INDEX                  2707 non-null   float64\n",
      " 7   Shenzhen Component               2674 non-null   float64\n",
      " 8   KOSPI Composite Index            2710 non-null   float64\n",
      " 9   Nikkei 225                       2696 non-null   float64\n",
      " 10  ALL ORDINARIES                   2780 non-null   float64\n",
      " 11  S&P/NZX 50 INDEX GROSS ( GROSS   2686 non-null   float64\n",
      " 12  TSEC weighted index              2699 non-null   float64\n",
      " 13  NIFTY 50                         2694 non-null   float64\n",
      " 14  Dow Jones Industrial Average     2773 non-null   float64\n",
      " 15  NYSE COMPOSITE (DJ)              2773 non-null   float64\n",
      " 16  Russell 2000                     2772 non-null   float64\n",
      " 17  S&P/TSX Composite index          2763 non-null   float64\n",
      " 18  NASDAQ Composite                 2773 non-null   float64\n",
      " 19  FTSE 100                         2773 non-null   float64\n",
      " 20  DAX PERFORMANCE-INDEX            2788 non-null   float64\n",
      " 21  CAC 40                           2815 non-null   float64\n",
      " 22  ESTX 50 PR.EUR                   2767 non-null   float64\n",
      " 23  BEL 20                           2814 non-null   float64\n",
      " 24  MOEX Russia Index                1929 non-null   float64\n",
      " 25  IBOVESPA                         2719 non-null   float64\n",
      " 26  IPC MEXICO                       2758 non-null   float64\n",
      " 27  S&P/CLX IPSA                     2353 non-null   float64\n",
      " 28  MERVAL                           2669 non-null   float64\n",
      " 29  TA-125                           2145 non-null   float64\n",
      " 30  Top 40 USD Net TRI Index         817 non-null    float64\n",
      " 31  Gold Jun 21                      2832 non-null   float64\n",
      " 32  Crude Oil Jun 21                 2774 non-null   float64\n",
      " 33  Bitcoin USD                      2297 non-null   float64\n",
      "dtypes: float64(34)\n",
      "memory usage: 965.5 KB\n"
     ]
    },
    {
     "data": {
      "text/plain": [
       "<AxesSubplot:xlabel='Date'>"
      ]
     },
     "execution_count": 8,
     "metadata": {},
     "output_type": "execute_result"
    },
    {
     "data": {
      "image/png": "[encoded data removed]",
      "text/plain": [
       "<Figure size 432x288 with 1 Axes>"
      ]
     },
     "metadata": {
      "needs_background": "light"
     },
     "output_type": "display_data"
    }
   ],
   "source": [
    "import yfinance as yf\n",
    "import pandas as pd\n",
    "\n",
    "df_trickers = pd.read_csv(\"StockIndexTrickers.csv\")\n",
    "# print(df_trickers.head())\n",
    "# df_trickers.info()\n",
    "\n",
    "start =\"2009-12-25\"\n",
    "# start =\"2010-01-01\"\n",
    "end =\"2020-12-31\"\n",
    "\n",
    "stockDataList = []\n",
    "\n",
    "trickers = df_trickers[df_trickers[\"FromYahoo\"]==1][[\"Trickers\",\"Stock Index\"]]\n",
    "# trickers\n",
    "                                  \n",
    "for index, row in trickers.iterrows():\n",
    "    stockData = yf.Ticker(row[\"Trickers\"])\n",
    "    histData = stockData.history(start=start, end=end)\n",
    "    dataFrame = pd.DataFrame(histData[\"Close\"])\n",
    "    dataFrame.columns =[stockData.info['shortName']]\n",
    "    stockDataList.append(dataFrame)\n",
    "    \n",
    "stockThai = pd.read_csv(\"SET Index Historical Data.csv\")\n",
    "stockThai['Date'] = pd.to_datetime(stockThai['Date'])\n",
    "stockThai = stockThai.set_index('Date')\n",
    "df_stockThai = pd.DataFrame(stockThai['Close'].str.replace(',','').astype(float))\n",
    "df_stockThai.columns =['SET']\n",
    "\n",
    "stockVietnam = pd.read_csv(\"VN Historical Data.csv\")\n",
    "stockVietnam['Date'] = pd.to_datetime(stockVietnam['Date'])\n",
    "stockVietnam = stockVietnam.set_index('Date')\n",
    "df_stockVietnam = pd.DataFrame(stockVietnam['Close'].str.replace(',','').astype(float))\n",
    "df_stockVietnam.columns =[\"VNI\"]\n",
    "\n",
    "df_allStocks = pd.merge(df_stockThai, df_stockVietnam, how= \"outer\",left_index=True, right_index=True)\n",
    "\n",
    "for i in range(len(stockDataList)):\n",
    "    df_allStocks = pd.merge(df_allStocks, stockDataList[i], how= \"outer\",left_index=True, right_index=True)\n",
    "    \n",
    "df_allStocks.info()\n",
    "df_allStocks.plot()"
   ]
  },
  {
   "cell_type": "markdown",
   "id": "educational-stadium",
   "metadata": {},
   "source": [
    "## Handle null value"
   ]
  },
  {
   "cell_type": "code",
   "execution_count": 6,
   "id": "engaged-danish",
   "metadata": {
    "ExecuteTime": {
     "end_time": "2021-04-13T03:43:24.420936Z",
     "start_time": "2021-04-13T03:43:24.397997Z"
    }
   },
   "outputs": [],
   "source": [
    "# print(df_allStocks.isnull().sum())"
   ]
  },
  {
   "cell_type": "code",
   "execution_count": 5,
   "id": "dirty-carbon",
   "metadata": {
    "ExecuteTime": {
     "end_time": "2021-04-13T03:43:39.006636Z",
     "start_time": "2021-04-13T03:43:38.994670Z"
    }
   },
   "outputs": [],
   "source": [
    "df_allStocks = df_allStocks.ffill()"
   ]
  },
  {
   "cell_type": "code",
   "execution_count": 4,
   "id": "determined-fossil",
   "metadata": {
    "ExecuteTime": {
     "end_time": "2021-04-13T03:43:41.427060Z",
     "start_time": "2021-04-13T03:43:41.407562Z"
    }
   },
   "outputs": [],
   "source": [
    "# df_allStocks.isnull().sum()"
   ]
  },
  {
   "cell_type": "code",
   "execution_count": 9,
   "id": "alien-bennett",
   "metadata": {
    "ExecuteTime": {
     "end_time": "2021-04-13T03:45:01.375227Z",
     "start_time": "2021-04-13T03:45:01.357273Z"
    }
   },
   "outputs": [
    {
     "data": {
      "text/html": [
       "<div>\n",
       "<style scoped>\n",
       "    .dataframe tbody tr th:only-of-type {\n",
       "        vertical-align: middle;\n",
       "    }\n",
       "\n",
       "    .dataframe tbody tr th {\n",
       "        vertical-align: top;\n",
       "    }\n",
       "\n",
       "    .dataframe thead th {\n",
       "        text-align: right;\n",
       "    }\n",
       "</style>\n",
       "<table border=\"1\" class=\"dataframe\">\n",
       "  <thead>\n",
       "    <tr style=\"text-align: right;\">\n",
       "      <th></th>\n",
       "      <th>SET</th>\n",
       "      <th>VNI</th>\n",
       "      <th>STI Index</th>\n",
       "      <th>FTSE Bursa Malaysia KLCI</th>\n",
       "      <th>Composite Index</th>\n",
       "      <th>PSEi INDEX</th>\n",
       "      <th>HANG SENG INDEX</th>\n",
       "      <th>Shenzhen Component</th>\n",
       "      <th>KOSPI Composite Index</th>\n",
       "      <th>Nikkei 225</th>\n",
       "      <th>...</th>\n",
       "      <th>MOEX Russia Index</th>\n",
       "      <th>IBOVESPA</th>\n",
       "      <th>IPC MEXICO</th>\n",
       "      <th>S&amp;P/CLX IPSA</th>\n",
       "      <th>MERVAL</th>\n",
       "      <th>TA-125</th>\n",
       "      <th>Top 40 USD Net TRI Index</th>\n",
       "      <th>Gold Jun 21</th>\n",
       "      <th>Crude Oil Jun 21</th>\n",
       "      <th>Bitcoin USD</th>\n",
       "    </tr>\n",
       "    <tr>\n",
       "      <th>Date</th>\n",
       "      <th></th>\n",
       "      <th></th>\n",
       "      <th></th>\n",
       "      <th></th>\n",
       "      <th></th>\n",
       "      <th></th>\n",
       "      <th></th>\n",
       "      <th></th>\n",
       "      <th></th>\n",
       "      <th></th>\n",
       "      <th></th>\n",
       "      <th></th>\n",
       "      <th></th>\n",
       "      <th></th>\n",
       "      <th></th>\n",
       "      <th></th>\n",
       "      <th></th>\n",
       "      <th></th>\n",
       "      <th></th>\n",
       "      <th></th>\n",
       "      <th></th>\n",
       "    </tr>\n",
       "  </thead>\n",
       "  <tbody>\n",
       "    <tr>\n",
       "      <th>2010-01-04</th>\n",
       "      <td>732.28</td>\n",
       "      <td>517.05</td>\n",
       "      <td>2894.550049</td>\n",
       "      <td>1275.750000</td>\n",
       "      <td>2575.312988</td>\n",
       "      <td>3004.237549</td>\n",
       "      <td>21823.279297</td>\n",
       "      <td>13533.387695</td>\n",
       "      <td>1696.140015</td>\n",
       "      <td>10654.790039</td>\n",
       "      <td>...</td>\n",
       "      <td>NaN</td>\n",
       "      <td>70045.0</td>\n",
       "      <td>32758.529297</td>\n",
       "      <td>3620.699951</td>\n",
       "      <td>2384.489990</td>\n",
       "      <td>1089.339966</td>\n",
       "      <td>NaN</td>\n",
       "      <td>1117.699951</td>\n",
       "      <td>81.510002</td>\n",
       "      <td>NaN</td>\n",
       "    </tr>\n",
       "    <tr>\n",
       "      <th>2010-01-05</th>\n",
       "      <td>732.11</td>\n",
       "      <td>532.53</td>\n",
       "      <td>2920.280029</td>\n",
       "      <td>1288.239990</td>\n",
       "      <td>2605.175537</td>\n",
       "      <td>3027.681396</td>\n",
       "      <td>22279.580078</td>\n",
       "      <td>13517.228516</td>\n",
       "      <td>1690.619995</td>\n",
       "      <td>10681.830078</td>\n",
       "      <td>...</td>\n",
       "      <td>NaN</td>\n",
       "      <td>70240.0</td>\n",
       "      <td>32732.759766</td>\n",
       "      <td>3624.100098</td>\n",
       "      <td>2401.750000</td>\n",
       "      <td>1098.199951</td>\n",
       "      <td>NaN</td>\n",
       "      <td>1118.099976</td>\n",
       "      <td>81.769997</td>\n",
       "      <td>NaN</td>\n",
       "    </tr>\n",
       "    <tr>\n",
       "      <th>2010-01-06</th>\n",
       "      <td>735.73</td>\n",
       "      <td>534.46</td>\n",
       "      <td>2930.489990</td>\n",
       "      <td>1293.170044</td>\n",
       "      <td>2603.195557</td>\n",
       "      <td>3039.148438</td>\n",
       "      <td>22416.669922</td>\n",
       "      <td>13505.028320</td>\n",
       "      <td>1705.319946</td>\n",
       "      <td>10731.450195</td>\n",
       "      <td>...</td>\n",
       "      <td>NaN</td>\n",
       "      <td>70729.0</td>\n",
       "      <td>32830.160156</td>\n",
       "      <td>3639.959961</td>\n",
       "      <td>2362.459961</td>\n",
       "      <td>1098.310059</td>\n",
       "      <td>NaN</td>\n",
       "      <td>1135.900024</td>\n",
       "      <td>83.180000</td>\n",
       "      <td>NaN</td>\n",
       "    </tr>\n",
       "    <tr>\n",
       "      <th>2010-01-07</th>\n",
       "      <td>734.63</td>\n",
       "      <td>533.34</td>\n",
       "      <td>2913.250000</td>\n",
       "      <td>1291.420044</td>\n",
       "      <td>2586.794189</td>\n",
       "      <td>3076.988770</td>\n",
       "      <td>22269.449219</td>\n",
       "      <td>13235.332031</td>\n",
       "      <td>1683.449951</td>\n",
       "      <td>10681.660156</td>\n",
       "      <td>...</td>\n",
       "      <td>NaN</td>\n",
       "      <td>70451.0</td>\n",
       "      <td>33064.570312</td>\n",
       "      <td>3681.060059</td>\n",
       "      <td>2389.449951</td>\n",
       "      <td>1094.040039</td>\n",
       "      <td>NaN</td>\n",
       "      <td>1133.099976</td>\n",
       "      <td>82.660004</td>\n",
       "      <td>NaN</td>\n",
       "    </tr>\n",
       "    <tr>\n",
       "      <th>2010-01-08</th>\n",
       "      <td>738.96</td>\n",
       "      <td>520.90</td>\n",
       "      <td>2922.760010</td>\n",
       "      <td>1292.979980</td>\n",
       "      <td>2614.268311</td>\n",
       "      <td>3076.388916</td>\n",
       "      <td>22296.750000</td>\n",
       "      <td>13267.291992</td>\n",
       "      <td>1695.260010</td>\n",
       "      <td>10798.320312</td>\n",
       "      <td>...</td>\n",
       "      <td>NaN</td>\n",
       "      <td>70263.0</td>\n",
       "      <td>32892.039062</td>\n",
       "      <td>3726.500000</td>\n",
       "      <td>2352.760010</td>\n",
       "      <td>NaN</td>\n",
       "      <td>NaN</td>\n",
       "      <td>1138.199951</td>\n",
       "      <td>82.750000</td>\n",
       "      <td>NaN</td>\n",
       "    </tr>\n",
       "  </tbody>\n",
       "</table>\n",
       "<p>5 rows × 34 columns</p>\n",
       "</div>"
      ],
      "text/plain": [
       "               SET     VNI    STI Index  FTSE Bursa Malaysia KLCI  \\\n",
       "Date                                                                \n",
       "2010-01-04  732.28  517.05  2894.550049               1275.750000   \n",
       "2010-01-05  732.11  532.53  2920.280029               1288.239990   \n",
       "2010-01-06  735.73  534.46  2930.489990               1293.170044   \n",
       "2010-01-07  734.63  533.34  2913.250000               1291.420044   \n",
       "2010-01-08  738.96  520.90  2922.760010               1292.979980   \n",
       "\n",
       "            Composite Index   PSEi INDEX  HANG SENG INDEX  Shenzhen Component  \\\n",
       "Date                                                                            \n",
       "2010-01-04      2575.312988  3004.237549     21823.279297        13533.387695   \n",
       "2010-01-05      2605.175537  3027.681396     22279.580078        13517.228516   \n",
       "2010-01-06      2603.195557  3039.148438     22416.669922        13505.028320   \n",
       "2010-01-07      2586.794189  3076.988770     22269.449219        13235.332031   \n",
       "2010-01-08      2614.268311  3076.388916     22296.750000        13267.291992   \n",
       "\n",
       "            KOSPI Composite Index    Nikkei 225  ...  MOEX Russia Index  \\\n",
       "Date                                             ...                      \n",
       "2010-01-04            1696.140015  10654.790039  ...                NaN   \n",
       "2010-01-05            1690.619995  10681.830078  ...                NaN   \n",
       "2010-01-06            1705.319946  10731.450195  ...                NaN   \n",
       "2010-01-07            1683.449951  10681.660156  ...                NaN   \n",
       "2010-01-08            1695.260010  10798.320312  ...                NaN   \n",
       "\n",
       "            IBOVESPA    IPC MEXICO  S&P/CLX IPSA       MERVAL       TA-125  \\\n",
       "Date                                                                         \n",
       "2010-01-04   70045.0  32758.529297   3620.699951  2384.489990  1089.339966   \n",
       "2010-01-05   70240.0  32732.759766   3624.100098  2401.750000  1098.199951   \n",
       "2010-01-06   70729.0  32830.160156   3639.959961  2362.459961  1098.310059   \n",
       "2010-01-07   70451.0  33064.570312   3681.060059  2389.449951  1094.040039   \n",
       "2010-01-08   70263.0  32892.039062   3726.500000  2352.760010          NaN   \n",
       "\n",
       "            Top 40 USD Net TRI Index  Gold Jun 21  Crude Oil Jun 21  \\\n",
       "Date                                                                  \n",
       "2010-01-04                       NaN  1117.699951         81.510002   \n",
       "2010-01-05                       NaN  1118.099976         81.769997   \n",
       "2010-01-06                       NaN  1135.900024         83.180000   \n",
       "2010-01-07                       NaN  1133.099976         82.660004   \n",
       "2010-01-08                       NaN  1138.199951         82.750000   \n",
       "\n",
       "            Bitcoin USD  \n",
       "Date                     \n",
       "2010-01-04          NaN  \n",
       "2010-01-05          NaN  \n",
       "2010-01-06          NaN  \n",
       "2010-01-07          NaN  \n",
       "2010-01-08          NaN  \n",
       "\n",
       "[5 rows x 34 columns]"
      ]
     },
     "execution_count": 9,
     "metadata": {},
     "output_type": "execute_result"
    }
   ],
   "source": [
    "start2 =\"2010-01-01\"\n",
    "end2 =\"2020-12-31\"\n",
    "df_allStocks = df_allStocks.loc[start2:end2]\n",
    "\n",
    "df_allStocks.head()"
   ]
  },
  {
   "cell_type": "markdown",
   "id": "conceptual-cooper",
   "metadata": {},
   "source": [
    "## Save raw data to csv"
   ]
  },
  {
   "cell_type": "code",
   "execution_count": 10,
   "id": "reported-quarter",
   "metadata": {
    "ExecuteTime": {
     "end_time": "2021-04-13T03:45:03.425292Z",
     "start_time": "2021-04-13T03:45:03.237901Z"
    }
   },
   "outputs": [],
   "source": [
    "# Save data \n",
    "df_allStocks.to_csv('StocksData.csv')"
   ]
  }
 ],
 "metadata": {
  "kernelspec": {
   "display_name": "Python 3",
   "language": "python",
   "name": "python3"
  },
  "language_info": {
   "codemirror_mode": {
    "name": "ipython",
    "version": 3
   },
   "file_extension": ".py",
   "mimetype": "text/x-python",
   "name": "python",
   "nbconvert_exporter": "python",
   "pygments_lexer": "ipython3",
   "version": "3.9.1"
  },
  "toc": {
   "base_numbering": 1,
   "nav_menu": {},
   "number_sections": true,
   "sideBar": true,
   "skip_h1_title": false,
   "title_cell": "Table of Contents",
   "title_sidebar": "Contents",
   "toc_cell": false,
   "toc_position": {},
   "toc_section_display": true,
   "toc_window_display": false
  },
  "varInspector": {
   "cols": {
    "lenName": 16,
    "lenType": 16,
    "lenVar": 40
   },
   "kernels_config": {
    "python": {
     "delete_cmd_postfix": "",
     "delete_cmd_prefix": "del ",
     "library": "var_list.py",
     "varRefreshCmd": "print(var_dic_list())"
    },
    "r": {
     "delete_cmd_postfix": ") ",
     "delete_cmd_prefix": "rm(",
     "library": "var_list.r",
     "varRefreshCmd": "cat(var_dic_list()) "
    }
   },
   "types_to_exclude": [
    "module",
    "function",
    "builtin_function_or_method",
    "instance",
    "_Feature"
   ],
   "window_display": false
  }
 },
 "nbformat": 4,
 "nbformat_minor": 5
}
